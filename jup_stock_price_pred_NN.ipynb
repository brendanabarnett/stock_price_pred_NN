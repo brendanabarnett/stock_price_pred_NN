{
  "cells": [
    {
      "cell_type": "code",
      "execution_count": null,
      "metadata": {
        "id": "JEnzjwCYUmI1",
        "tags": []
      },
      "outputs": [],
      "source": [
        "from yahoo_fin import stock_info\n",
        "from sklearn.preprocessing import MinMaxScaler\n",
        "from collections import deque\n",
        "from keras.models import Sequential\n",
        "from keras.layers import Dense, LSTM, Dropout\n",
        "import numpy as np\n",
        "import time\n",
        "import datetime\n",
        "import matplotlib.pyplot as plt"
      ]
    },
    {
      "cell_type": "code",
      "execution_count": null,
      "metadata": {
        "id": "3aEGF70sARdc"
      },
      "outputs": [],
      "source": [
        "#\n",
        "#\n",
        "#\n",
        "####  Edit these variables as desired   ####\n",
        "#\n",
        "DAYS_PER_SEQUENCE = 10  # use the previous x days as params each training iteration to reduce impact of noise\n",
        "DAYS_AHEAD_PRED = 1     # 0 = td, 1 = tmrw, ...\n",
        "STOCK_TICKER = 'META'   # stock ticker (can be anything within yahoo fin's database)\n",
        "#\n",
        "#############################################\n",
        "#\n",
        "#\n",
        "#"
      ]
    },
    {
      "cell_type": "code",
      "execution_count": null,
      "metadata": {
        "id": "2EcJrRTsVWKb"
      },
      "outputs": [],
      "source": [
        "def PricePredNN(x_train, y_train):\n",
        "  model = Sequential()\n",
        "  model.add(LSTM(64, return_sequences=True, input_shape=(DAYS_PER_SEQUENCE, 1)))    # LSTM layer of 64 nodes: return all\n",
        "  model.add(Dropout(0.2))   # drop 20% (mitigate overfitting)\n",
        "  model.add(LSTM(128, return_sequences=False))      # LSTM layer of 128 nodes\n",
        "  model.add(Dropout(0.2))   # drop 20% (mitigate overfitting)\n",
        "  model.add(Dense(32))      # fully connected layer of 32 nodes\n",
        "  model.add(Dense(16))      # fully connected layer of 16 nodes\n",
        "  model.add(Dense(1))      # fully connected layer of 1 node (output)\n",
        "  epochs = 100\n",
        "  batch_size = 8\n",
        "\n",
        "  model.compile(loss='mean_squared_error', optimizer='adam')\n",
        "  model.fit(x_train, y_train, batch_size=batch_size, epochs=epochs, verbose=1)\n",
        "  model.summary()\n",
        "  return model"
      ]
    },
    {
      "cell_type": "code",
      "execution_count": null,
      "metadata": {
        "id": "CAIUxt1RVQxz"
      },
      "outputs": [],
      "source": [
        "def PrepareData(N):\n",
        "  data_c = data.copy()\n",
        "  data_c['future'] = data_c['adjclose'].shift(-N)    # create 'future' col (by shifting up adjclose by 'N' days) ['N' is 1,2, or 3]\n",
        "  sequ_last = np.array(data_c[['adjclose']].tail(N))   # mini array of price at last 'N' days\n",
        "  data_c.dropna(inplace=True)   # delete any NANs\n",
        "  sequ_data = []\n",
        "  sequ = deque(maxlen=DAYS_PER_SEQUENCE)  # each sequence holds data from prev 5 days\n",
        "\n",
        "  for entry, target in zip(data_c[['adjclose'] + ['date']].values, data_c['future'].values):\n",
        "      sequ.append(entry)   # add price/date combo to seq\n",
        "      if len(sequ) == DAYS_PER_SEQUENCE:              # every 5 iterations...\n",
        "          sequ_data.append([np.array(sequ), target])   # add tuple of ((date/price of  prev N days), 1 target)\n",
        "\n",
        "  sequ_last = list([s[:len(['adjclose'])] for s in sequ]) + list(sequ_last)   # gets last sequence for final guess\n",
        "  sequ_last = np.array(sequ_last).astype(np.float32)    # convert to float\n",
        "\n",
        "  X, Y = [], []\n",
        "  for seq, target in sequ_data:\n",
        "      X.append(seq)     # split prev N days into x\n",
        "      Y.append(target)  # split targets into y\n",
        "\n",
        "  X = np.array(X)\n",
        "  Y = np.array(Y)\n",
        "\n",
        "  return sequ_last, X, Y"
      ]
    },
    {
      "cell_type": "code",
      "execution_count": null,
      "metadata": {
        "id": "dHO5Val6FUr1"
      },
      "outputs": [],
      "source": [
        "date_td = time.strftime('%Y-%m-%d') # get current date\n",
        "date_1ya = (datetime.date.today() - datetime.timedelta(days=365)).strftime('%Y-%m-%d')  # date 1yr ago\n",
        "date_1ya"
      ]
    },
    {
      "cell_type": "code",
      "execution_count": null,
      "metadata": {
        "id": "2QVtzQrrGH-h"
      },
      "outputs": [],
      "source": [
        "# get data from yahoo finance\n",
        "data_raw = stock_info.get_data( STOCK_TICKER, start_date=date_1ya, end_date=date_td, interval='1d') # from yahoo fin\n",
        "data = data_raw.drop(['open', 'high', 'low', 'ticker', 'volume', 'close'], axis=1) # remove extra columns (only focusing on adjusted close: closing price after adjustments for all applicable splits and dividend distributions)\n",
        "data['date'] = data.index # make col for date (instead of just as index)\n",
        "\n",
        "data_raw"
      ]
    },
    {
      "cell_type": "code",
      "execution_count": null,
      "metadata": {
        "id": "PzzrayY9VaKl"
      },
      "outputs": [],
      "source": [
        "data"
      ]
    },
    {
      "cell_type": "code",
      "execution_count": null,
      "metadata": {
        "id": "0o0ZWERoGNh2"
      },
      "outputs": [],
      "source": [
        "# plot adjclose\n",
        "plt.figure(figsize=(10,6))\n",
        "plt.plot(data['adjclose'][-365:])   # plot adjusted closing price (last yr)\n",
        "plt.ylabel(\"Price (USD)\")\n",
        "plt.xlabel(\"Date\")\n",
        "plt.legend([f'Adj Closing Price for {STOCK_TICKER}'])\n",
        "plt.show()"
      ]
    },
    {
      "cell_type": "code",
      "execution_count": null,
      "metadata": {
        "id": "axjVVMfRVmPA"
      },
      "outputs": [],
      "source": [
        "# plot adjclose\n",
        "plt.figure(figsize=(10,6))\n",
        "plt.plot(data['adjclose'][-7:])   # plot adjusted closing price (last 7 days)\n",
        "plt.ylabel(\"Price (USD)\")\n",
        "plt.xlabel(\"Date\")\n",
        "plt.legend([f'Adj Closing Price for {STOCK_TICKER}'])\n",
        "plt.show()"
      ]
    },
    {
      "cell_type": "code",
      "execution_count": null,
      "metadata": {
        "id": "ouk6X-uwVdyd"
      },
      "outputs": [],
      "source": [
        "# plot close\n",
        "plt.figure(figsize=(10,6))\n",
        "plt.plot(data_raw['close'][-365:])   # plot adjusted closing price (last yr)\n",
        "plt.ylabel(\"Price (USD)\")\n",
        "plt.xlabel(\"Date\")\n",
        "plt.legend([f'Closing Price for {STOCK_TICKER}'])\n",
        "plt.show()"
      ]
    },
    {
      "cell_type": "code",
      "execution_count": null,
      "metadata": {
        "id": "Jowcu29ZVyKX"
      },
      "outputs": [],
      "source": [
        "# plot volume\n",
        "plt.figure(figsize=(10,6))\n",
        "plt.plot(data_raw['volume'][-365:])   # plot adjusted closing price (last yr)\n",
        "plt.ylabel(\"Volume\")\n",
        "plt.xlabel(\"Date\")\n",
        "plt.legend([f'Trading volume for {STOCK_TICKER}'])\n",
        "plt.show()"
      ]
    },
    {
      "cell_type": "code",
      "execution_count": null,
      "metadata": {
        "id": "AC4EFs8PGJq9"
      },
      "outputs": [],
      "source": [
        "# scale data\n",
        "scaler = MinMaxScaler() # scale data to be between 0 and 1\n",
        "data['adjclose'] = scaler.fit_transform(np.expand_dims(data['adjclose'].values, axis=1))\n",
        "data[:]"
      ]
    },
    {
      "cell_type": "code",
      "execution_count": null,
      "metadata": {
        "id": "0IJjrCOPGV_-"
      },
      "outputs": [],
      "source": [
        "# plot scaled adjclose\n",
        "plt.figure(figsize=(10,6))\n",
        "plt.plot(data['adjclose'][-365:])   # plot scaled adjusted closing price (last yr)\n",
        "plt.ylabel(\"Scaled Price\")\n",
        "plt.xlabel(\"Date\")\n",
        "plt.legend([f'Adj Closing Price for {STOCK_TICKER}'])\n",
        "plt.show()"
      ]
    },
    {
      "cell_type": "code",
      "execution_count": null,
      "metadata": {
        "id": "rNeepSyOVY-b"
      },
      "outputs": [],
      "source": [
        "last_sequence, x_train, y_train = PrepareData(DAYS_AHEAD_PRED+1)  # create parameters for each price (so model can base predction while 'looking back' X days)\n",
        "x_train = x_train[:, :, :len(['adjclose'])].astype(np.float32)    # omit date, only use price\n",
        "model = PricePredNN(x_train, y_train)"
      ]
    },
    {
      "cell_type": "code",
      "execution_count": null,
      "metadata": {
        "id": "HNBBsjRbRk3g"
      },
      "outputs": [],
      "source": [
        "# note: retrain model (run the above cell) to predict again\n",
        "pred_sequence = np.expand_dims(last_sequence[-DAYS_PER_SEQUENCE:], axis=0)  # gets last sequence of data (including price we want to find)\n",
        "prediction = model.predict(pred_sequence)   # predicts price using last sequence of data as params\n",
        "predicted_price = round(float(scaler.inverse_transform(prediction)[0][0]), 2)   # unscale value"
      ]
    },
    {
      "cell_type": "code",
      "execution_count": null,
      "metadata": {
        "id": "UWG4ievjWIwN"
      },
      "outputs": [],
      "source": [
        "# print out result\n",
        "last_price = data_raw['adjclose'].iloc[-1]\n",
        "print(f\"{STOCK_TICKER} price prediction:\")\n",
        "if DAYS_AHEAD_PRED == 1: print(f\"In {DAYS_AHEAD_PRED} day: ${predicted_price}\")\n",
        "else: print(f\"In {DAYS_AHEAD_PRED} days: ${predicted_price}\")\n",
        "print(f\"Change of {round(((predicted_price-last_price)/last_price)*100,2)}%\")"
      ]
    }
  ],
  "metadata": {
    "colab": {
      "provenance": []
    },
    "kernelspec": {
      "display_name": "Python 3",
      "name": "python3"
    },
    "language_info": {
      "codemirror_mode": {
        "name": "ipython",
        "version": 3
      },
      "file_extension": ".py",
      "mimetype": "text/x-python",
      "name": "python",
      "nbconvert_exporter": "python",
      "pygments_lexer": "ipython3",
      "version": "3.12.0"
    }
  },
  "nbformat": 4,
  "nbformat_minor": 0
}
